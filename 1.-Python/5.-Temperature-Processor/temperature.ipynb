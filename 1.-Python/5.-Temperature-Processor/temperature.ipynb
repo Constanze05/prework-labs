{
 "cells": [
  {
   "cell_type": "markdown",
   "metadata": {},
   "source": [
    "<img src=\"https://bit.ly/2VnXWr2\" width=\"100\" align=\"left\">"
   ]
  },
  {
   "cell_type": "markdown",
   "metadata": {},
   "source": [
    "# Temperature Sensor\n",
    "\n",
    "There is a temperature sensor in the processor of your company's server. The company wants to analyze the data provided by the sensor to decide if they should change the cooling system for a better one. As changing the cooling system is expensive and you are an excellent data analyst, you can't make a decision without basis.\n",
    "\n",
    "## Tools\n",
    "You don't necessarily need to use all the tools. Maybe you opt to use some of them or completely different ones, they are given to help you shape the exercise. Programming exercises can be solved in many different ways.\n",
    "1. Data structures: **lists**\n",
    "2. Loops: **list comprehension**\n",
    "3. Functions: **min, max, print, len**\n",
    "4. Conditional statements: **if-elif-else**\n",
    "\n",
    "## Tasks\n",
    "The temperatures measured throughout the 24 hours of a day are:"
   ]
  },
  {
   "cell_type": "code",
   "execution_count": 52,
   "metadata": {},
   "outputs": [],
   "source": [
    "temperatures_C = [33, 66, 65, 0, 59, 60, 62, 64, 70, 76, 80, 81, 80, 83, 90, 79, 61, 53, 50, 49, 53, 48, 45, 39]"
   ]
  },
  {
   "cell_type": "markdown",
   "metadata": {},
   "source": [
    "The first element of the list is the temperature at 12am, the second element is the temperature at 1am, and so on. \n",
    "\n",
    "The company has decided that if one of the following events occurs, then the cooling system needs to be replaced for a new one to avoid damaging the processor.\n",
    "* More than 4 temperatures are greater than or equal to 70ºC.\n",
    "* Any temperature is above 80ºC.\n",
    "* The average temperature exceeds 65ºC.\n",
    "\n",
    "Follow the steps so that you can make the decision.\n",
    "\n",
    "#### 1. Find the minimum temperature of the day and store it in a variable."
   ]
  },
  {
   "cell_type": "code",
   "execution_count": 53,
   "metadata": {},
   "outputs": [
    {
     "name": "stdout",
     "output_type": "stream",
     "text": [
      "The minimum temperature of the day is 0\n"
     ]
    }
   ],
   "source": [
    "lowest = (min(temperatures_C))\n",
    "print(\"The minimum temperature of the day is\",lowest)"
   ]
  },
  {
   "cell_type": "markdown",
   "metadata": {},
   "source": [
    "#### 2. Find the maximum temperature of the day and store it in a variable."
   ]
  },
  {
   "cell_type": "code",
   "execution_count": 54,
   "metadata": {},
   "outputs": [
    {
     "name": "stdout",
     "output_type": "stream",
     "text": [
      "The maximum temperature of the day is 90\n"
     ]
    }
   ],
   "source": [
    "highest = (max(temperatures_C))\n",
    "print(\"The maximum temperature of the day is\",highest)"
   ]
  },
  {
   "cell_type": "markdown",
   "metadata": {},
   "source": [
    "#### 3. Create a list with the temperatures that are greater than or equal to 70ºC. Store it in a variable."
   ]
  },
  {
   "cell_type": "code",
   "execution_count": 55,
   "metadata": {},
   "outputs": [
    {
     "name": "stdout",
     "output_type": "stream",
     "text": [
      "[70, 76, 80, 81, 80, 83, 90, 79]\n"
     ]
    }
   ],
   "source": [
    "greater_equal_seventy = []\n",
    "\n",
    "for c in temperatures_C:\n",
    "    if c >= 70:\n",
    "        greater_equal_seventy.append(c)\n",
    "\n",
    "print(greater_equal_seventy)"
   ]
  },
  {
   "cell_type": "markdown",
   "metadata": {},
   "source": [
    "#### 4. Find the average temperature of the day and store it in a variable."
   ]
  },
  {
   "cell_type": "code",
   "execution_count": 56,
   "metadata": {},
   "outputs": [
    {
     "name": "stdout",
     "output_type": "stream",
     "text": [
      "The average temperature of the day is 60.25\n"
     ]
    }
   ],
   "source": [
    "average_C = (sum(temperatures_C)/len(temperatures_C))\n",
    "print(\"The average temperature of the day is\",average_C)"
   ]
  },
  {
   "cell_type": "markdown",
   "metadata": {},
   "source": [
    "#### 5. Imagine that there was a sensor failure at 3am and the data for that specific hour was not recorded. How would you estimate the missing value? Replace the current value of the list at 3am for an estimation. "
   ]
  },
  {
   "cell_type": "code",
   "execution_count": 57,
   "metadata": {},
   "outputs": [
    {
     "name": "stdout",
     "output_type": "stream",
     "text": [
      "The average temperature of the day without missing value is 62.869565217391305\n"
     ]
    }
   ],
   "source": [
    "#calculate a new average temperature, without missing value\n",
    "new_average_C = (sum(temperatures_C)/(((len(temperatures_C))-1)))\n",
    "print(\"The average temperature of the day without missing value is\",new_average_C) \n",
    "\n",
    "#replace value with new average as an estimated, the value of the lowest temperature is not correct\n",
    "temperatures_C[3] = new_average_C"
   ]
  },
  {
   "cell_type": "markdown",
   "metadata": {},
   "source": [
    "#### 6. Bonus: the maintenance staff is from the United States and does not understand the international metric system. Help them by converting the temperatures from Celsius to Fahrenheit.\n",
    "To know more about temperature conversion check this [link](https://en.wikipedia.org/wiki/Conversion_of_units_of_temperature).\n",
    "\n",
    "**Formula**: \n",
    "\n",
    "$F = 1.8 * C + 32$"
   ]
  },
  {
   "cell_type": "code",
   "execution_count": 58,
   "metadata": {},
   "outputs": [
    {
     "name": "stdout",
     "output_type": "stream",
     "text": [
      "New converted list: [91.4, 150.8, 149.0, 145.16521739130434, 138.2, 140.0, 143.60000000000002, 147.2, 158.0, 168.8, 176.0, 177.8, 176.0, 181.4, 194.0, 174.20000000000002, 141.8, 127.4, 122.0, 120.2, 127.4, 118.4, 113.0, 102.2]\n"
     ]
    }
   ],
   "source": [
    "temperatures_f = []\n",
    "\n",
    "for c in temperatures_C:\n",
    "    fahrenheit = (1.8*c)+32\n",
    "    temperatures_f.append(fahrenheit)\n",
    "\n",
    "print(\"New converted list:\", temperatures_f)"
   ]
  },
  {
   "cell_type": "markdown",
   "metadata": {},
   "source": [
    "#### 7. Make a decision!\n",
    "Now it's time to make a decision taking into account what you have seen until now. \n",
    "\n",
    "Remember that if one of the following events occurs, then the cooling system needs to be replaced for a new one to avoid damaging the processor.\n",
    "* More than 4 temperatures are greater than or equal to 70ºC.\n",
    "* Any temperature is above 80ºC.\n",
    "* The average temperature exceeds 65ºC.\n",
    "\n",
    "#### To make your decision, check if any of the three conditions above is met. You might need to use some of the variables you created in steps 1 to 6. Print a message to show if the cooling system needs to be changed or not."
   ]
  },
  {
   "cell_type": "code",
   "execution_count": 86,
   "metadata": {},
   "outputs": [
    {
     "name": "stdout",
     "output_type": "stream",
     "text": [
      "The cooling system needs to be changed!\n"
     ]
    }
   ],
   "source": [
    "for c in temperatures_C:\n",
    "    if c > 80 or len(greater_equal_seventy) >= 4 or new_average_C > 65:\n",
    "        print(\"The cooling system needs to be changed!\")\n",
    "        break\n",
    "    else:\n",
    "        print(\"The cooling system doesn't need to be changed.\")\n"
   ]
  },
  {
   "cell_type": "markdown",
   "metadata": {},
   "source": [
    "## Bonus\n",
    "\n",
    "The company has decided that the decision you made is not valid. They want you to analyze the data again but this time, the conditions that need to be met in order to change the cooling system are different.\n",
    "\n",
    "This time, if one of the following events occurs, then the cooling system needs to be replaced:\n",
    "* The temperature is greater than 70ºC during more than 4 consecutive hours.\n",
    "* Any temperature is above 80ºC.\n",
    "* The average temperature exceeds 65ºC.\n",
    "\n",
    "Follow the steps so that you can make the decision.\n",
    "\n",
    "#### 1. Create a list with the hours where the temperature is greater than 70ºC. Store it in a variable."
   ]
  },
  {
   "cell_type": "code",
   "execution_count": 107,
   "metadata": {},
   "outputs": [
    {
     "name": "stdout",
     "output_type": "stream",
     "text": [
      "[(76, 9), (80, 10), (81, 11), (80, 12), (83, 13), (90, 14), (79, 15)]\n"
     ]
    }
   ],
   "source": [
    "temperatures_C = [33, 66, 65, 0, 59, 60, 62, 64, 70, 76, 80, 81, 80, 83, 90, 79, 61, 53, 50, 49, 53, 48, 45, 39]\n",
    "\n",
    "#variable for 24 hours and converted as list\n",
    "hours = range(24)\n",
    "\n",
    "#temperatures and hours paired with zip, new list created\n",
    "c_and_h = list(zip(temperatures_C,hours))\n",
    "\n",
    "#new variable greater than seventy\n",
    "greater_seventy = []\n",
    "\n",
    "for (x,y) in c_and_h:\n",
    "    if x > 70:\n",
    "        greater_seventy.append((x,y))\n",
    "        \n",
    "print(greater_seventy)\n"
   ]
  },
  {
   "cell_type": "markdown",
   "metadata": {},
   "source": [
    "#### 2. Check if the list you created in step 1 has more than 4 consecutive hours. "
   ]
  },
  {
   "cell_type": "code",
   "execution_count": 115,
   "metadata": {},
   "outputs": [
    {
     "name": "stdout",
     "output_type": "stream",
     "text": [
      "The temperature is greater than 70ºC during 7 consecutive hours\n"
     ]
    }
   ],
   "source": [
    "temp = 0\n",
    "\n",
    "for (x,y) in greater_seventy:\n",
    "    if y < y+1:\n",
    "        temp += 1\n",
    "    else:\n",
    "        break\n",
    "\n",
    "print(\"The temperature is greater than 70ºC during\",temp,\"consecutive hours\")"
   ]
  },
  {
   "cell_type": "markdown",
   "metadata": {},
   "source": [
    "#### 3. Make the decision!\n",
    "To make your decision, check if any of the three conditions is met. Print a message to show if the cooling system needs to be changed or not."
   ]
  },
  {
   "cell_type": "code",
   "execution_count": 116,
   "metadata": {},
   "outputs": [
    {
     "name": "stdout",
     "output_type": "stream",
     "text": [
      "The cooling system needs to be changed!\n"
     ]
    }
   ],
   "source": [
    "for c in temperatures_C:\n",
    "    if c > 80 or temp > 4 or new_average_C > 65:\n",
    "        print(\"The cooling system needs to be changed!\")\n",
    "        break\n",
    "    else:\n",
    "        print(\"The cooling system doesn't need to be changed.\")"
   ]
  },
  {
   "cell_type": "markdown",
   "metadata": {},
   "source": [
    "#### 4. Find the average value of the temperature lists (ºC and ºF). What is the relation between both average values?"
   ]
  },
  {
   "cell_type": "code",
   "execution_count": 119,
   "metadata": {},
   "outputs": [
    {
     "name": "stdout",
     "output_type": "stream",
     "text": [
      "The average value of the list in celsius is smaller than the average value of the list in fahrenheit\n"
     ]
    }
   ],
   "source": [
    "#calculate a new average temperature, without missing value\n",
    "new_average_C = (sum(temperatures_C)/(((len(temperatures_C))-1)))\n",
    "#average for fahrenheit list\n",
    "average_f = (sum(temperatures_f)/(((len(temperatures_f))-1)))\n",
    "\n",
    "#the relation between both averages is a result of the conversion formula\n",
    "if new_average_C < average_f:\n",
    "    print(\"The average value of the list in celsius is smaller than the average value of the list in fahrenheit\")\n",
    "elif new_average_C > average_f:\n",
    "    print(\"The average value of the list in celsius is bigger than the average value of the list in fahrenheit\")\n",
    "elif new_average_C == average_f:\n",
    "    print(\"The average value of the list in celsius is equal to the average value of the list in fahrenheit\")"
   ]
  },
  {
   "cell_type": "markdown",
   "metadata": {},
   "source": [
    "#### 5. Find the standard deviation of the temperature lists (ºC and ºF). What is the relation between both standard deviations?"
   ]
  },
  {
   "cell_type": "code",
   "execution_count": 120,
   "metadata": {},
   "outputs": [
    {
     "name": "stdout",
     "output_type": "stream",
     "text": [
      "Standard Deviation for Celsius is 19.700474503223873 \n",
      "Standard Deviation for Fahrenheit is 26.90489867624162 \n"
     ]
    }
   ],
   "source": [
    "import statistics\n",
    "print(\"Standard Deviation for Celsius is % s \" % (statistics.stdev(temperatures_C)))\n",
    "print(\"Standard Deviation for Fahrenheit is % s \" % (statistics.stdev(temperatures_f)))\n",
    "\n",
    "#the relation between both standard deviations is also a result of the conversion formula, \n",
    "#the standad deviation for the list in Celsius is smaller than the standard deviation for the list in fahrenheit\n"
   ]
  },
  {
   "cell_type": "code",
   "execution_count": null,
   "metadata": {},
   "outputs": [],
   "source": []
  }
 ],
 "metadata": {
  "kernelspec": {
   "display_name": "Python 3",
   "language": "python",
   "name": "python3"
  },
  "language_info": {
   "codemirror_mode": {
    "name": "ipython",
    "version": 3
   },
   "file_extension": ".py",
   "mimetype": "text/x-python",
   "name": "python",
   "nbconvert_exporter": "python",
   "pygments_lexer": "ipython3",
   "version": "3.7.4"
  }
 },
 "nbformat": 4,
 "nbformat_minor": 2
}
