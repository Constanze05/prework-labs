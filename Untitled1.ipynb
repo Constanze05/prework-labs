{
 "cells": [
  {
   "cell_type": "code",
   "execution_count": 3,
   "metadata": {},
   "outputs": [
    {
     "name": "stdout",
     "output_type": "stream",
     "text": [
      "Bus capacity: 4\n",
      "Number of stops: 9\n"
     ]
    }
   ],
   "source": [
    "bus_capacity = 0\n",
    "stops = [(10, 0), (4, 1), (3, 5), (3, 4), (5, 1), (1, 5), (5, 8), (4, 6), (2, 3)]\n",
    "num_stops = 0\n",
    "for on, off in stops:\n",
    "    bus_capacity += on - off\n",
    "    num_stops += 1\n",
    "    \n",
    "print(\"Bus capacity:\", bus_capacity)\n",
    "print(\"Number of stops:\",num_stops)"
   ]
  },
  {
   "cell_type": "code",
   "execution_count": 17,
   "metadata": {},
   "outputs": [
    {
     "name": "stdout",
     "output_type": "stream",
     "text": [
      "[10, 3, -2, -1, 4, -4, -3, -2, -1]\n"
     ]
    }
   ],
   "source": [
    "number_of_passenger = [] \n",
    "\n",
    "for a,b in stops:\n",
    "    new_element = (a-b)\n",
    "    number_of_passenger.append(new_element)\n",
    "\n",
    "for new_element in number_of_passenger:\n",
    "    new_element = new_element + (a-b)\n",
    "           \n",
    "      \n",
    "print(number_of_passenger)"
   ]
  },
  {
   "cell_type": "code",
   "execution_count": null,
   "metadata": {},
   "outputs": [],
   "source": [
    "number_of_passenger = [10, 3, -2, -1, 4, -4, -3, -2, -1]\n",
    "\n",
    "liste = []\n",
    "\n",
    "for i in number_of_passenger:\n",
    "    liste += i\n",
    "    print(total)\n"
   ]
  },
  {
   "cell_type": "code",
   "execution_count": null,
   "metadata": {},
   "outputs": [],
   "source": []
  }
 ],
 "metadata": {
  "kernelspec": {
   "display_name": "Python 3",
   "language": "python",
   "name": "python3"
  },
  "language_info": {
   "codemirror_mode": {
    "name": "ipython",
    "version": 3
   },
   "file_extension": ".py",
   "mimetype": "text/x-python",
   "name": "python",
   "nbconvert_exporter": "python",
   "pygments_lexer": "ipython3",
   "version": "3.7.4"
  }
 },
 "nbformat": 4,
 "nbformat_minor": 2
}
