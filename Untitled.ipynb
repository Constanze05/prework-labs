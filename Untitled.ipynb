{
 "cells": [
  {
   "cell_type": "code",
   "execution_count": 2,
   "metadata": {},
   "outputs": [
    {
     "name": "stdout",
     "output_type": "stream",
     "text": [
      "10\n",
      "11\n",
      "24\n",
      "81\n",
      "105\n",
      "130\n",
      "133\n",
      "158\n",
      "150\n",
      "164\n",
      "199\n"
     ]
    }
   ],
   "source": [
    "advance_cm = [30, 21, 33, 77, 44, 45, 23, 45, 12, 34, 55]\n",
    "nightly_distance = 20\n",
    "total_distance = 0\n",
    "\n",
    "for i in advance_cm:\n",
    "   total_distance += i-20\n",
    "   print(total_distance)"
   ]
  },
  {
   "cell_type": "code",
   "execution_count": 6,
   "metadata": {},
   "outputs": [
    {
     "name": "stdout",
     "output_type": "stream",
     "text": [
      "[10, 1, 13, 57, 24, 25, 3, 25, -8, 14, 35]\n"
     ]
    }
   ],
   "source": [
    "advance_cm = [30, 21, 33, 77, 44, 45, 23, 45, 12, 34, 55]\n",
    "nightly_distance = 20\n",
    "total_distance = []\n",
    "\n",
    "for cm in advance_cm:\n",
    "   total_distance.append(cm-nightly_distance)\n",
    "\n",
    "print(total_distance)"
   ]
  },
  {
   "cell_type": "code",
   "execution_count": 10,
   "metadata": {},
   "outputs": [],
   "source": [
    "min(total_distance[:6])\n",
    "distance_six_days = total_distance[:6]\n"
   ]
  },
  {
   "cell_type": "code",
   "execution_count": 11,
   "metadata": {},
   "outputs": [
    {
     "name": "stdout",
     "output_type": "stream",
     "text": [
      "[10, 1, 13, 57, 24, 25]\n"
     ]
    }
   ],
   "source": [
    "print(distance_six_days)"
   ]
  },
  {
   "cell_type": "code",
   "execution_count": 14,
   "metadata": {},
   "outputs": [
    {
     "name": "stdout",
     "output_type": "stream",
     "text": [
      "Standard Deviation is 19.510680835549195 \n"
     ]
    }
   ],
   "source": [
    "import statistics\n",
    "print(\"Standard Deviation is % s \" % (statistics.stdev(distance_six_days))) "
   ]
  },
  {
   "cell_type": "code",
   "execution_count": 38,
   "metadata": {
    "scrolled": true
   },
   "outputs": [
    {
     "name": "stdout",
     "output_type": "stream",
     "text": [
      "gandalf won 6 times\n",
      "saruman won 4 times\n"
     ]
    }
   ],
   "source": [
    "gandalf = [10, 11, 13, 30, 22, 11, 10, 33, 22, 22]\n",
    "saruman = [23, 66, 12, 43, 12, 10, 44, 23, 12, 17]\n",
    "spells = len(gandalf+saruman)\n",
    "\n",
    "\n",
    "gandalf_wins = []\n",
    "saruman_wins = []\n",
    "\n",
    "\n",
    "for a, b in zip(gandalf, saruman): \n",
    "     if a > b:\n",
    "        gandalf_wins.append(\"yes\") \n",
    "        saruman_wins.append (\"no\")\n",
    "     elif a < b:\n",
    "            gandalf_wins.append(\"no\") \n",
    "            saruman_wins.append (\"yes\")\n",
    "\n",
    "gandalf_won = gandalf_wins.count(\"yes\")\n",
    "print(\"gandalf won\" ,gandalf_won, \"times\")\n",
    "\n",
    "saruman_won = saruman_wins.count(\"yes\")\n",
    "print(\"saruman won\" ,saruman_won, \"times\")\n",
    "    "
   ]
  },
  {
   "cell_type": "code",
   "execution_count": 22,
   "metadata": {},
   "outputs": [
    {
     "ename": "TypeError",
     "evalue": "'>' not supported between instances of 'list' and 'int'",
     "output_type": "error",
     "traceback": [
      "\u001b[1;31m---------------------------------------------------------------------------\u001b[0m",
      "\u001b[1;31mTypeError\u001b[0m                                 Traceback (most recent call last)",
      "\u001b[1;32m<ipython-input-22-779d7133ba91>\u001b[0m in \u001b[0;36m<module>\u001b[1;34m\u001b[0m\n\u001b[0;32m      8\u001b[0m \u001b[1;33m\u001b[0m\u001b[0m\n\u001b[0;32m      9\u001b[0m \u001b[1;33m\u001b[0m\u001b[0m\n\u001b[1;32m---> 10\u001b[1;33m \u001b[1;32mif\u001b[0m \u001b[0ma\u001b[0m \u001b[1;32min\u001b[0m \u001b[0mgandalf\u001b[0m \u001b[1;33m>\u001b[0m \u001b[0mb\u001b[0m \u001b[1;32min\u001b[0m \u001b[0msaruman\u001b[0m\u001b[1;33m:\u001b[0m\u001b[1;33m\u001b[0m\u001b[1;33m\u001b[0m\u001b[0m\n\u001b[0m\u001b[0;32m     11\u001b[0m     \u001b[0mprint\u001b[0m\u001b[1;33m(\u001b[0m\u001b[1;34m\"gandalf won\"\u001b[0m\u001b[1;33m)\u001b[0m\u001b[1;33m\u001b[0m\u001b[1;33m\u001b[0m\u001b[0m\n\u001b[0;32m     12\u001b[0m \u001b[1;33m\u001b[0m\u001b[0m\n",
      "\u001b[1;31mTypeError\u001b[0m: '>' not supported between instances of 'list' and 'int'"
     ]
    }
   ],
   "source": [
    "\n",
    "\n"
   ]
  },
  {
   "cell_type": "code",
   "execution_count": 1,
   "metadata": {},
   "outputs": [
    {
     "name": "stdout",
     "output_type": "stream",
     "text": [
      "{'past': 'Death', 'present': 'The Fool', 'future': 'Wheel of Fortune'}\n"
     ]
    }
   ],
   "source": [
    "tarot = { 1:\t\"The Magician\", 2:\t\"The High Priestess\", 3:\t\"The Empress\", 4:\t\"The Emperor\", 5:\t\"The Hierophant\", 6:\t\"The Lovers\", 7:\t\"The Chariot\", 8:\t\"Strength\", 9:\t\"The Hermit\", 10:\t\"Wheel of Fortune\", 11:\t\"Justice\", 12:\t\"The Hanged Man\", 13:\t\"Death\", 14:\t\"Temperance\", 15:\t\"The Devil\", 16:\t\"The Tower\", 17:\t\"The Star\", 18:\t\"The Moon\", 19:\t\"The Sun\", 20:\t\"Judgement\", 21:\t\"The World\", 22: \"The Fool\"}\n",
    "\n",
    "spread = {}\n",
    "\n",
    "spread[\"past\"] = tarot.pop(13)\n",
    "spread[\"present\"] = tarot.pop(22)\n",
    "spread[\"future\"] = tarot.pop(10)\n",
    "\n",
    "print(spread)"
   ]
  },
  {
   "cell_type": "code",
   "execution_count": 52,
   "metadata": {},
   "outputs": [
    {
     "data": {
      "text/plain": [
       "50"
      ]
     },
     "execution_count": 52,
     "metadata": {},
     "output_type": "execute_result"
    }
   ],
   "source": [
    "POWER = {\n",
    "    'Fireball': 50, \n",
    "    'Lightning bolt': 40, \n",
    "    'Magic arrow': 10, \n",
    "    'Black Tentacles': 25, \n",
    "    'Contagion': 45}\n",
    "\n",
    "gandalf = ['Fireball', 'Lightning bolt', 'Lightning bolt', 'Magic arrow', 'Fireball', \n",
    "           'Magic arrow', 'Lightning bolt', 'Fireball', 'Fireball', 'Fireball']\n",
    "\n",
    "saruman = ['Contagion', 'Contagion', 'Black Tentacles', 'Fireball', 'Black Tentacles', \n",
    "           'Lightning bolt', 'Magic arrow', 'Contagion', 'Magic arrow', 'Magic arrow']\n",
    "\n",
    "POWER[\"Fireball\"]"
   ]
  },
  {
   "cell_type": "code",
   "execution_count": 53,
   "metadata": {},
   "outputs": [
    {
     "name": "stdout",
     "output_type": "stream",
     "text": [
      "[50, 40, 40, 10, 50, 10, 40, 50, 50, 50]\n",
      "[45, 45, 25, 50, 25, 40, 10, 45, 10, 10]\n"
     ]
    }
   ],
   "source": [
    "gandalf_power = []\n",
    "\n",
    "for i in gandalf:\n",
    "    if i == \"Fireball\":\n",
    "        gandalf_power.append(50)\n",
    "    elif i == \"Lightning bolt\":\n",
    "        gandalf_power.append(40)\n",
    "    elif i == \"Magic arrow\":\n",
    "        gandalf_power.append(10)\n",
    "    elif i == \"Black Tentacles\":\n",
    "        gandalf_power.append(25)\n",
    "    elif i == \"Contagion\":\n",
    "        gandalf_power.append(45)            \n",
    "            \n",
    "print(gandalf_power)\n",
    "\n",
    "saruman_power = []\n",
    "\n",
    "for i in saruman:\n",
    "    if i == \"Fireball\":\n",
    "        saruman_power.append(50)\n",
    "    elif i == \"Lightning bolt\":\n",
    "        saruman_power.append(40)\n",
    "    elif i == \"Magic arrow\":\n",
    "        saruman_power.append(10)\n",
    "    elif i == \"Black Tentacles\":\n",
    "        saruman_power.append(25)\n",
    "    elif i == \"Contagion\":\n",
    "        saruman_power.append(45)            \n",
    "            \n",
    "print(saruman_power)\n",
    "        "
   ]
  },
  {
   "cell_type": "code",
   "execution_count": 65,
   "metadata": {},
   "outputs": [
    {
     "name": "stdout",
     "output_type": "stream",
     "text": [
      "['yes', 'no', 'yes', 'no', 'yes', 'no', 'yes', 'yes', 'yes', 'yes']\n",
      "['no', 'yes', 'no', 'yes', 'no', 'yes', 'no', 'no', 'no', 'no']\n"
     ]
    },
    {
     "ename": "TypeError",
     "evalue": "unsupported operand type(s) for +: 'int' and 'str'",
     "output_type": "error",
     "traceback": [
      "\u001b[1;31m---------------------------------------------------------------------------\u001b[0m",
      "\u001b[1;31mTypeError\u001b[0m                                 Traceback (most recent call last)",
      "\u001b[1;32m<ipython-input-65-c8bed9ec2280>\u001b[0m in \u001b[0;36m<module>\u001b[1;34m\u001b[0m\n\u001b[0;32m     14\u001b[0m \u001b[0mprint\u001b[0m\u001b[1;33m(\u001b[0m\u001b[0msaruman_wins\u001b[0m\u001b[1;33m)\u001b[0m\u001b[1;33m\u001b[0m\u001b[1;33m\u001b[0m\u001b[0m\n\u001b[0;32m     15\u001b[0m \u001b[1;33m\u001b[0m\u001b[0m\n\u001b[1;32m---> 16\u001b[1;33m \u001b[0msum\u001b[0m\u001b[1;33m(\u001b[0m\u001b[0mgandalf_wins\u001b[0m\u001b[1;33m)\u001b[0m\u001b[1;33m/\u001b[0m\u001b[0mlen\u001b[0m\u001b[1;33m(\u001b[0m\u001b[0mgandalf_wins\u001b[0m\u001b[1;33m)\u001b[0m\u001b[1;33m\u001b[0m\u001b[1;33m\u001b[0m\u001b[0m\n\u001b[0m",
      "\u001b[1;31mTypeError\u001b[0m: unsupported operand type(s) for +: 'int' and 'str'"
     ]
    }
   ],
   "source": [
    "gandalf_wins = []\n",
    "saruman_wins = []\n",
    "\n",
    "\n",
    "for a, b in zip(gandalf_power, saruman_power): \n",
    "     if a > b:\n",
    "        gandalf_wins.append(\"yes\") \n",
    "        saruman_wins.append(\"no\")\n",
    "     elif a < b:\n",
    "            gandalf_wins.append(\"no\") \n",
    "            saruman_wins.append(\"yes\")\n",
    "            \n",
    "print(gandalf_wins)\n",
    "print(saruman_wins)\n"
   ]
  },
  {
   "cell_type": "code",
   "execution_count": 63,
   "metadata": {},
   "outputs": [
    {
     "name": "stdout",
     "output_type": "stream",
     "text": [
      "1\n"
     ]
    }
   ],
   "source": [
    "gandalf_won = 0\n",
    "for i in gandalf_wins:\n",
    "    if i == \"yes\":\n",
    "        gandalf_won +=1\n",
    "        if gandalf_won == 3:\n",
    "           gandalf_won = 0          \n",
    "    else:\n",
    "        gandalf_won = 0\n",
    "                \n",
    "print(gandalf_won)\n",
    "        \n",
    "        "
   ]
  },
  {
   "cell_type": "code",
   "execution_count": 56,
   "metadata": {},
   "outputs": [
    {
     "name": "stdout",
     "output_type": "stream",
     "text": [
      "0\n"
     ]
    }
   ],
   "source": [
    "saruman_won = 0\n",
    "for i in saruman_wins:\n",
    "    if i == \"yes\":\n",
    "        saruman_won +=1\n",
    "        if saruman_won == 3:\n",
    "            saruman_won = 0\n",
    "    else:\n",
    "        saruman_won = 0\n",
    "        \n",
    "print(saruman_won)"
   ]
  },
  {
   "cell_type": "code",
   "execution_count": 68,
   "metadata": {},
   "outputs": [
    {
     "name": "stdout",
     "output_type": "stream",
     "text": [
      "39.0\n",
      "30.5\n"
     ]
    }
   ],
   "source": [
    "print(sum(gandalf_power)/len(gandalf_power))\n",
    "print(sum(saruman_power)/len(saruman_power))"
   ]
  },
  {
   "cell_type": "code",
   "execution_count": null,
   "metadata": {},
   "outputs": [],
   "source": [
    "stops = [(10, 0), (4, 1), (3, 5), (3, 4), (5, 1), (1, 5), (5, 8), (4, 6), (2, 3)]\n",
    "#2. Assign to a variable a list whose elements are the number of passengers at each stop (in-out).¶\n",
    "#Each item depends on the previous item in the list + in - out.\n",
    "\n",
    "number_of_passenger = [] \n",
    "\n",
    "for a,b in stops:\n",
    "        number_of_passenger += number_of_passenger.append(a-b)\n",
    "\n",
    "print(number_of_passenger)\n",
    "        \n",
    "       \n"
   ]
  },
  {
   "cell_type": "code",
   "execution_count": null,
   "metadata": {},
   "outputs": [],
   "source": []
  },
  {
   "cell_type": "code",
   "execution_count": null,
   "metadata": {},
   "outputs": [],
   "source": []
  },
  {
   "cell_type": "code",
   "execution_count": null,
   "metadata": {},
   "outputs": [],
   "source": []
  },
  {
   "cell_type": "code",
   "execution_count": null,
   "metadata": {},
   "outputs": [
    {
     "name": "stdout",
     "output_type": "stream",
     "text": [
      "[10, 3, -2, -1, 4, -4, -3, -2, -1]\n"
     ]
    }
   ],
   "source": [
    "stops = [(10, 0), (4, 1), (3, 5), (3, 4), (5, 1), (1, 5), (5, 8), (4, 6), (2, 3)]\n",
    "#2. Assign to a variable a list whose elements are the number of passengers at each stop (in-out).¶\n",
    "#Each item depends on the previous item in the list + in - out.\n",
    "\n",
    "number_of_passenger = [] \n",
    "\n",
    "for a,b in stops:\n",
    "    new_element = (a-b)\n",
    "    number_of_passenger.append(new_element)\n",
    "      \n",
    "print(number_of_passenger)\n",
    "\n",
    "flow = []\n",
    "\n",
    "for i in number_of_passenger:\n",
    "    while i < len(stops):\n",
    "     new = 0 +i\n",
    "     flow.append(new)\n",
    "\n",
    "print(flow)"
   ]
  },
  {
   "cell_type": "code",
   "execution_count": 1,
   "metadata": {},
   "outputs": [
    {
     "name": "stdout",
     "output_type": "stream",
     "text": [
      "bulldog\n",
      "dalmation\n",
      "shihtzu\n",
      "poodle\n",
      "collie\n"
     ]
    }
   ],
   "source": [
    "dog_breeds = ['bulldog', 'dalmation', 'shihtzu', 'poodle', 'collie']\n",
    "\n",
    "index = 0\n",
    "while index < len(dog_breeds):\n",
    "  print(dog_breeds[index])\n",
    "  index += 1\n"
   ]
  },
  {
   "cell_type": "code",
   "execution_count": null,
   "metadata": {},
   "outputs": [],
   "source": [
    "def double_stuff(a_list):\n",
    "    \"\"\" Return a new list which contains\n",
    "        doubles of the elements in a_list.\n",
    "    \"\"\"\n",
    "    new_list = []\n",
    "    for value in a_list:\n",
    "        new_elem = 2 * value\n",
    "        new_list.append(new_elem)\n",
    "\n",
    "    return new_list"
   ]
  }
 ],
 "metadata": {
  "kernelspec": {
   "display_name": "Python 3",
   "language": "python",
   "name": "python3"
  },
  "language_info": {
   "codemirror_mode": {
    "name": "ipython",
    "version": 3
   },
   "file_extension": ".py",
   "mimetype": "text/x-python",
   "name": "python",
   "nbconvert_exporter": "python",
   "pygments_lexer": "ipython3",
   "version": "3.7.4"
  }
 },
 "nbformat": 4,
 "nbformat_minor": 2
}
